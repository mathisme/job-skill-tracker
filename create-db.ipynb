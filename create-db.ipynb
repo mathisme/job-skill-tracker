{
 "cells": [
  {
   "cell_type": "code",
   "execution_count": 2,
   "id": "060733cf",
   "metadata": {},
   "outputs": [],
   "source": [
    "from pathlib import Path\n",
    "import sqlite3"
   ]
  },
  {
   "cell_type": "code",
   "execution_count": 3,
   "id": "8118a76a",
   "metadata": {},
   "outputs": [],
   "source": [
    "data_path = Path(\"data.db\")\n",
    "if not data_path.is_file():\n",
    "    con = sqlite3.connect('data.db')\n",
    "    cur = con.cursor()\n",
    "    cur.execute('''CREATE TABLE skills\n",
    "               (title text, skill text, rank int)''')\n",
    "    con.commit()\n",
    "    con.close()"
   ]
  },
  {
   "cell_type": "code",
   "execution_count": null,
   "id": "a45eebf6",
   "metadata": {},
   "outputs": [],
   "source": []
  }
 ],
 "metadata": {
  "kernelspec": {
   "display_name": "Python 3",
   "language": "python",
   "name": "python3"
  },
  "language_info": {
   "codemirror_mode": {
    "name": "ipython",
    "version": 3
   },
   "file_extension": ".py",
   "mimetype": "text/x-python",
   "name": "python",
   "nbconvert_exporter": "python",
   "pygments_lexer": "ipython3",
   "version": "3.9.5"
  }
 },
 "nbformat": 4,
 "nbformat_minor": 5
}
